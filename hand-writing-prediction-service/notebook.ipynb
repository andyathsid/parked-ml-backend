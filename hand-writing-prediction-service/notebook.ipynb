{
 "cells": [
  {
   "cell_type": "code",
   "execution_count": 3,
   "metadata": {},
   "outputs": [],
   "source": [
    "import tensorflow as tf\n",
    "from tensorflow import keras\n",
    "tf.compat.v1.logging.set_verbosity(tf.compat.v1.logging.ERROR)"
   ]
  },
  {
   "cell_type": "code",
   "execution_count": 4,
   "metadata": {},
   "outputs": [
    {
     "name": "stderr",
     "output_type": "stream",
     "text": [
      "WARNING: All log messages before absl::InitializeLog() is called are written to STDERR\n",
      "I0000 00:00:1730286418.825160   53594 cuda_executor.cc:1001] could not open file to read NUMA node: /sys/bus/pci/devices/0000:01:00.0/numa_node\n",
      "Your kernel may have been built without NUMA support.\n",
      "I0000 00:00:1730286419.008295   53594 cuda_executor.cc:1001] could not open file to read NUMA node: /sys/bus/pci/devices/0000:01:00.0/numa_node\n",
      "Your kernel may have been built without NUMA support.\n",
      "I0000 00:00:1730286419.008410   53594 cuda_executor.cc:1001] could not open file to read NUMA node: /sys/bus/pci/devices/0000:01:00.0/numa_node\n",
      "Your kernel may have been built without NUMA support.\n",
      "I0000 00:00:1730286419.014263   53594 cuda_executor.cc:1001] could not open file to read NUMA node: /sys/bus/pci/devices/0000:01:00.0/numa_node\n",
      "Your kernel may have been built without NUMA support.\n",
      "I0000 00:00:1730286419.014337   53594 cuda_executor.cc:1001] could not open file to read NUMA node: /sys/bus/pci/devices/0000:01:00.0/numa_node\n",
      "Your kernel may have been built without NUMA support.\n",
      "I0000 00:00:1730286419.014371   53594 cuda_executor.cc:1001] could not open file to read NUMA node: /sys/bus/pci/devices/0000:01:00.0/numa_node\n",
      "Your kernel may have been built without NUMA support.\n",
      "I0000 00:00:1730286419.368347   53594 cuda_executor.cc:1001] could not open file to read NUMA node: /sys/bus/pci/devices/0000:01:00.0/numa_node\n",
      "Your kernel may have been built without NUMA support.\n",
      "I0000 00:00:1730286419.368449   53594 cuda_executor.cc:1001] could not open file to read NUMA node: /sys/bus/pci/devices/0000:01:00.0/numa_node\n",
      "Your kernel may have been built without NUMA support.\n",
      "2024-10-30 18:06:59.368462: I tensorflow/core/common_runtime/gpu/gpu_device.cc:2112] Could not identify NUMA node of platform GPU id 0, defaulting to 0.  Your kernel may not have been built with NUMA support.\n",
      "I0000 00:00:1730286419.368540   53594 cuda_executor.cc:1001] could not open file to read NUMA node: /sys/bus/pci/devices/0000:01:00.0/numa_node\n",
      "Your kernel may have been built without NUMA support.\n",
      "2024-10-30 18:06:59.368561: I tensorflow/core/common_runtime/gpu/gpu_device.cc:2021] Created device /job:localhost/replica:0/task:0/device:GPU:0 with 5563 MB memory:  -> device: 0, name: NVIDIA GeForce RTX 4060 Laptop GPU, pci bus id: 0000:01:00.0, compute capability: 8.9\n"
     ]
    }
   ],
   "source": [
    "model = keras.models.load_model('model_epoch_17_val_acc_0.9231.keras')"
   ]
  },
  {
   "cell_type": "code",
   "execution_count": 5,
   "metadata": {},
   "outputs": [],
   "source": [
    "from keras.preprocessing.image import load_img\n",
    "from keras.applications.resnet import preprocess_input\n",
    "import numpy as np"
   ]
  },
  {
   "cell_type": "code",
   "execution_count": 6,
   "metadata": {},
   "outputs": [],
   "source": [
    "img = load_img('./sp1-P1.jpg', target_size=(224, 224))"
   ]
  },
  {
   "cell_type": "code",
   "execution_count": 7,
   "metadata": {},
   "outputs": [
    {
     "data": {
      "text/plain": [
       "(1, 224, 224, 3)"
      ]
     },
     "execution_count": 7,
     "metadata": {},
     "output_type": "execute_result"
    }
   ],
   "source": [
    "x = np.array(img)\n",
    "X = np.array([x])\n",
    "X.shape"
   ]
  },
  {
   "cell_type": "code",
   "execution_count": 8,
   "metadata": {},
   "outputs": [
    {
     "name": "stderr",
     "output_type": "stream",
     "text": [
      "I0000 00:00:1730286423.071607   56806 service.cc:146] XLA service 0x7f6364002910 initialized for platform CUDA (this does not guarantee that XLA will be used). Devices:\n",
      "I0000 00:00:1730286423.071646   56806 service.cc:154]   StreamExecutor device (0): NVIDIA GeForce RTX 4060 Laptop GPU, Compute Capability 8.9\n",
      "2024-10-30 18:07:03.156968: I tensorflow/compiler/mlir/tensorflow/utils/dump_mlir_util.cc:268] disabling MLIR crash reproducer, set env var `MLIR_CRASH_REPRODUCER_DIRECTORY` to enable.\n",
      "2024-10-30 18:07:03.545918: I external/local_xla/xla/stream_executor/cuda/cuda_dnn.cc:531] Loaded cuDNN version 90101\n"
     ]
    },
    {
     "name": "stdout",
     "output_type": "stream",
     "text": [
      "\u001b[1m1/1\u001b[0m \u001b[32m━━━━━━━━━━━━━━━━━━━━\u001b[0m\u001b[37m\u001b[0m \u001b[1m4s\u001b[0m 4s/step\n"
     ]
    },
    {
     "name": "stderr",
     "output_type": "stream",
     "text": [
      "I0000 00:00:1730286425.965626   56806 device_compiler.h:188] Compiled cluster using XLA!  This line is logged at most once for the lifetime of the process.\n"
     ]
    },
    {
     "data": {
      "text/plain": [
       "array([[0.09367929, 0.9063207 ]], dtype=float32)"
      ]
     },
     "execution_count": 8,
     "metadata": {},
     "output_type": "execute_result"
    }
   ],
   "source": [
    "X = preprocess_input(X)\n",
    "pred = model.predict(X)\n",
    "pred"
   ]
  },
  {
   "cell_type": "code",
   "execution_count": 9,
   "metadata": {},
   "outputs": [
    {
     "data": {
      "text/plain": [
       "{'prediction': 0.9063207}"
      ]
     },
     "execution_count": 9,
     "metadata": {},
     "output_type": "execute_result"
    }
   ],
   "source": [
    "pred = {\"prediction\": pred[0][1]}\n",
    "pred"
   ]
  },
  {
   "cell_type": "markdown",
   "metadata": {},
   "source": [
    "# Convert Keras to TF-Lite"
   ]
  },
  {
   "cell_type": "code",
   "execution_count": 10,
   "metadata": {},
   "outputs": [
    {
     "name": "stdout",
     "output_type": "stream",
     "text": [
      "Saved artifact at '/tmp/tmpbzfn23id'. The following endpoints are available:\n",
      "\n",
      "* Endpoint 'serve'\n",
      "  args_0 (POSITIONAL_ONLY): TensorSpec(shape=(None, 224, 224, 3), dtype=tf.float32, name='input_layer_3')\n",
      "Output Type:\n",
      "  TensorSpec(shape=(None, 2), dtype=tf.float32, name=None)\n",
      "Captures:\n",
      "  140069008949712: TensorSpec(shape=(), dtype=tf.resource, name=None)\n",
      "  140069008951248: TensorSpec(shape=(), dtype=tf.resource, name=None)\n",
      "  140069008950288: TensorSpec(shape=(), dtype=tf.resource, name=None)\n",
      "  140069008949904: TensorSpec(shape=(), dtype=tf.resource, name=None)\n",
      "  140069008951056: TensorSpec(shape=(), dtype=tf.resource, name=None)\n",
      "  140069008950672: TensorSpec(shape=(), dtype=tf.resource, name=None)\n",
      "  140069008951824: TensorSpec(shape=(), dtype=tf.resource, name=None)\n",
      "  140069008952976: TensorSpec(shape=(), dtype=tf.resource, name=None)\n",
      "  140069008952400: TensorSpec(shape=(), dtype=tf.resource, name=None)\n",
      "  140069008953168: TensorSpec(shape=(), dtype=tf.resource, name=None)\n",
      "  140069008953360: TensorSpec(shape=(), dtype=tf.resource, name=None)\n",
      "  140069008950864: TensorSpec(shape=(), dtype=tf.resource, name=None)\n",
      "  140069008953936: TensorSpec(shape=(), dtype=tf.resource, name=None)\n",
      "  140069008955472: TensorSpec(shape=(), dtype=tf.resource, name=None)\n",
      "  140069008954320: TensorSpec(shape=(), dtype=tf.resource, name=None)\n",
      "  140069008955664: TensorSpec(shape=(), dtype=tf.resource, name=None)\n",
      "  140069008956048: TensorSpec(shape=(), dtype=tf.resource, name=None)\n",
      "  140069008953552: TensorSpec(shape=(), dtype=tf.resource, name=None)\n",
      "  140069008957968: TensorSpec(shape=(), dtype=tf.resource, name=None)\n",
      "  140069008958928: TensorSpec(shape=(), dtype=tf.resource, name=None)\n",
      "  140069008956624: TensorSpec(shape=(), dtype=tf.resource, name=None)\n",
      "  140069008958160: TensorSpec(shape=(), dtype=tf.resource, name=None)\n",
      "  140069008956240: TensorSpec(shape=(), dtype=tf.resource, name=None)\n",
      "  140069008958736: TensorSpec(shape=(), dtype=tf.resource, name=None)\n",
      "  140069008958352: TensorSpec(shape=(), dtype=tf.resource, name=None)\n",
      "  140069008959120: TensorSpec(shape=(), dtype=tf.resource, name=None)\n",
      "  140069008961040: TensorSpec(shape=(), dtype=tf.resource, name=None)\n",
      "  140069008960272: TensorSpec(shape=(), dtype=tf.resource, name=None)\n",
      "  140069008961232: TensorSpec(shape=(), dtype=tf.resource, name=None)\n",
      "  140069008959504: TensorSpec(shape=(), dtype=tf.resource, name=None)\n",
      "  140069008962576: TensorSpec(shape=(), dtype=tf.resource, name=None)\n",
      "  140069008963152: TensorSpec(shape=(), dtype=tf.resource, name=None)\n",
      "  140069008962192: TensorSpec(shape=(), dtype=tf.resource, name=None)\n",
      "  140069008962960: TensorSpec(shape=(), dtype=tf.resource, name=None)\n",
      "  140069008961808: TensorSpec(shape=(), dtype=tf.resource, name=None)\n",
      "  140069008963344: TensorSpec(shape=(), dtype=tf.resource, name=None)\n",
      "  140069008964880: TensorSpec(shape=(), dtype=tf.resource, name=None)\n",
      "  140069008965264: TensorSpec(shape=(), dtype=tf.resource, name=None)\n",
      "  140069003641104: TensorSpec(shape=(), dtype=tf.resource, name=None)\n",
      "  140069003641296: TensorSpec(shape=(), dtype=tf.resource, name=None)\n",
      "  140069008965456: TensorSpec(shape=(), dtype=tf.resource, name=None)\n",
      "  140069003641488: TensorSpec(shape=(), dtype=tf.resource, name=None)\n",
      "  140069003642448: TensorSpec(shape=(), dtype=tf.resource, name=None)\n",
      "  140069003643024: TensorSpec(shape=(), dtype=tf.resource, name=None)\n",
      "  140069003642064: TensorSpec(shape=(), dtype=tf.resource, name=None)\n",
      "  140069003642832: TensorSpec(shape=(), dtype=tf.resource, name=None)\n",
      "  140069003641680: TensorSpec(shape=(), dtype=tf.resource, name=None)\n",
      "  140069003643216: TensorSpec(shape=(), dtype=tf.resource, name=None)\n",
      "  140069003643984: TensorSpec(shape=(), dtype=tf.resource, name=None)\n",
      "  140069003645520: TensorSpec(shape=(), dtype=tf.resource, name=None)\n",
      "  140069003643600: TensorSpec(shape=(), dtype=tf.resource, name=None)\n",
      "  140069003645328: TensorSpec(shape=(), dtype=tf.resource, name=None)\n",
      "  140069003644368: TensorSpec(shape=(), dtype=tf.resource, name=None)\n",
      "  140069003645712: TensorSpec(shape=(), dtype=tf.resource, name=None)\n",
      "  140069003646480: TensorSpec(shape=(), dtype=tf.resource, name=None)\n",
      "  140069003648016: TensorSpec(shape=(), dtype=tf.resource, name=None)\n",
      "  140069003646096: TensorSpec(shape=(), dtype=tf.resource, name=None)\n",
      "  140069003647824: TensorSpec(shape=(), dtype=tf.resource, name=None)\n",
      "  140069003646864: TensorSpec(shape=(), dtype=tf.resource, name=None)\n",
      "  140069003648208: TensorSpec(shape=(), dtype=tf.resource, name=None)\n",
      "  140069003649744: TensorSpec(shape=(), dtype=tf.resource, name=None)\n",
      "  140069003650320: TensorSpec(shape=(), dtype=tf.resource, name=None)\n",
      "  140069003649360: TensorSpec(shape=(), dtype=tf.resource, name=None)\n",
      "  140069003650128: TensorSpec(shape=(), dtype=tf.resource, name=None)\n",
      "  140069003648976: TensorSpec(shape=(), dtype=tf.resource, name=None)\n",
      "  140069003650512: TensorSpec(shape=(), dtype=tf.resource, name=None)\n",
      "  140069003652048: TensorSpec(shape=(), dtype=tf.resource, name=None)\n",
      "  140069003652624: TensorSpec(shape=(), dtype=tf.resource, name=None)\n",
      "  140069003651664: TensorSpec(shape=(), dtype=tf.resource, name=None)\n",
      "  140069003652432: TensorSpec(shape=(), dtype=tf.resource, name=None)\n",
      "  140069003651280: TensorSpec(shape=(), dtype=tf.resource, name=None)\n",
      "  140069003652816: TensorSpec(shape=(), dtype=tf.resource, name=None)\n",
      "  140069003654352: TensorSpec(shape=(), dtype=tf.resource, name=None)\n",
      "  140069003654928: TensorSpec(shape=(), dtype=tf.resource, name=None)\n",
      "  140069003653968: TensorSpec(shape=(), dtype=tf.resource, name=None)\n",
      "  140069003654736: TensorSpec(shape=(), dtype=tf.resource, name=None)\n",
      "  140069003653584: TensorSpec(shape=(), dtype=tf.resource, name=None)\n",
      "  140069003655120: TensorSpec(shape=(), dtype=tf.resource, name=None)\n",
      "  140069004050704: TensorSpec(shape=(), dtype=tf.resource, name=None)\n",
      "  140069004051280: TensorSpec(shape=(), dtype=tf.resource, name=None)\n",
      "  140069003656656: TensorSpec(shape=(), dtype=tf.resource, name=None)\n",
      "  140069003655888: TensorSpec(shape=(), dtype=tf.resource, name=None)\n",
      "  140069004051664: TensorSpec(shape=(), dtype=tf.resource, name=None)\n",
      "  140069004051088: TensorSpec(shape=(), dtype=tf.resource, name=None)\n",
      "  140069004050896: TensorSpec(shape=(), dtype=tf.resource, name=None)\n",
      "  140069004051472: TensorSpec(shape=(), dtype=tf.resource, name=None)\n",
      "  140069004052624: TensorSpec(shape=(), dtype=tf.resource, name=None)\n",
      "  140069004053008: TensorSpec(shape=(), dtype=tf.resource, name=None)\n",
      "  140069004051856: TensorSpec(shape=(), dtype=tf.resource, name=None)\n",
      "  140069004052240: TensorSpec(shape=(), dtype=tf.resource, name=None)\n",
      "  140069004054544: TensorSpec(shape=(), dtype=tf.resource, name=None)\n",
      "  140069004055120: TensorSpec(shape=(), dtype=tf.resource, name=None)\n",
      "  140069004054160: TensorSpec(shape=(), dtype=tf.resource, name=None)\n",
      "  140069004054928: TensorSpec(shape=(), dtype=tf.resource, name=None)\n",
      "  140069004053776: TensorSpec(shape=(), dtype=tf.resource, name=None)\n",
      "  140069004055312: TensorSpec(shape=(), dtype=tf.resource, name=None)\n",
      "  140069004056848: TensorSpec(shape=(), dtype=tf.resource, name=None)\n",
      "  140069004057424: TensorSpec(shape=(), dtype=tf.resource, name=None)\n",
      "  140069004056464: TensorSpec(shape=(), dtype=tf.resource, name=None)\n",
      "  140069004057232: TensorSpec(shape=(), dtype=tf.resource, name=None)\n",
      "  140069004056080: TensorSpec(shape=(), dtype=tf.resource, name=None)\n",
      "  140069004057616: TensorSpec(shape=(), dtype=tf.resource, name=None)\n",
      "  140069004059152: TensorSpec(shape=(), dtype=tf.resource, name=None)\n",
      "  140069004059728: TensorSpec(shape=(), dtype=tf.resource, name=None)\n",
      "  140069004058768: TensorSpec(shape=(), dtype=tf.resource, name=None)\n",
      "  140069004059536: TensorSpec(shape=(), dtype=tf.resource, name=None)\n",
      "  140069004058384: TensorSpec(shape=(), dtype=tf.resource, name=None)\n",
      "  140069004059920: TensorSpec(shape=(), dtype=tf.resource, name=None)\n",
      "  140069004061456: TensorSpec(shape=(), dtype=tf.resource, name=None)\n",
      "  140069004062032: TensorSpec(shape=(), dtype=tf.resource, name=None)\n",
      "  140069004061072: TensorSpec(shape=(), dtype=tf.resource, name=None)\n",
      "  140069004061840: TensorSpec(shape=(), dtype=tf.resource, name=None)\n",
      "  140069004060688: TensorSpec(shape=(), dtype=tf.resource, name=None)\n",
      "  140069004062224: TensorSpec(shape=(), dtype=tf.resource, name=None)\n",
      "  140069004063760: TensorSpec(shape=(), dtype=tf.resource, name=None)\n",
      "  140069004064336: TensorSpec(shape=(), dtype=tf.resource, name=None)\n",
      "  140069004063376: TensorSpec(shape=(), dtype=tf.resource, name=None)\n",
      "  140069004064144: TensorSpec(shape=(), dtype=tf.resource, name=None)\n",
      "  140069004062992: TensorSpec(shape=(), dtype=tf.resource, name=None)\n",
      "  140069004064528: TensorSpec(shape=(), dtype=tf.resource, name=None)\n",
      "  140069004066064: TensorSpec(shape=(), dtype=tf.resource, name=None)\n",
      "  140069004066448: TensorSpec(shape=(), dtype=tf.resource, name=None)\n",
      "  140068982358480: TensorSpec(shape=(), dtype=tf.resource, name=None)\n",
      "  140068982358288: TensorSpec(shape=(), dtype=tf.resource, name=None)\n",
      "  140069004066640: TensorSpec(shape=(), dtype=tf.resource, name=None)\n",
      "  140068982358096: TensorSpec(shape=(), dtype=tf.resource, name=None)\n",
      "  140068982359632: TensorSpec(shape=(), dtype=tf.resource, name=None)\n",
      "  140068982360208: TensorSpec(shape=(), dtype=tf.resource, name=None)\n",
      "  140068982359248: TensorSpec(shape=(), dtype=tf.resource, name=None)\n",
      "  140068982360016: TensorSpec(shape=(), dtype=tf.resource, name=None)\n",
      "  140068982358864: TensorSpec(shape=(), dtype=tf.resource, name=None)\n",
      "  140068982360400: TensorSpec(shape=(), dtype=tf.resource, name=None)\n",
      "  140068982361936: TensorSpec(shape=(), dtype=tf.resource, name=None)\n",
      "  140068982362512: TensorSpec(shape=(), dtype=tf.resource, name=None)\n",
      "  140068982361552: TensorSpec(shape=(), dtype=tf.resource, name=None)\n",
      "  140068982362320: TensorSpec(shape=(), dtype=tf.resource, name=None)\n",
      "  140068982361168: TensorSpec(shape=(), dtype=tf.resource, name=None)\n",
      "  140068982362704: TensorSpec(shape=(), dtype=tf.resource, name=None)\n",
      "  140068982364240: TensorSpec(shape=(), dtype=tf.resource, name=None)\n",
      "  140068982364816: TensorSpec(shape=(), dtype=tf.resource, name=None)\n",
      "  140068982363856: TensorSpec(shape=(), dtype=tf.resource, name=None)\n",
      "  140068982364624: TensorSpec(shape=(), dtype=tf.resource, name=None)\n",
      "  140068982363472: TensorSpec(shape=(), dtype=tf.resource, name=None)\n",
      "  140068982365008: TensorSpec(shape=(), dtype=tf.resource, name=None)\n",
      "  140068982366544: TensorSpec(shape=(), dtype=tf.resource, name=None)\n",
      "  140068982367120: TensorSpec(shape=(), dtype=tf.resource, name=None)\n",
      "  140068982366160: TensorSpec(shape=(), dtype=tf.resource, name=None)\n",
      "  140068982366928: TensorSpec(shape=(), dtype=tf.resource, name=None)\n",
      "  140068982365776: TensorSpec(shape=(), dtype=tf.resource, name=None)\n",
      "  140068982367312: TensorSpec(shape=(), dtype=tf.resource, name=None)\n",
      "  140068982368848: TensorSpec(shape=(), dtype=tf.resource, name=None)\n",
      "  140068982369424: TensorSpec(shape=(), dtype=tf.resource, name=None)\n",
      "  140068982368464: TensorSpec(shape=(), dtype=tf.resource, name=None)\n",
      "  140068982369232: TensorSpec(shape=(), dtype=tf.resource, name=None)\n",
      "  140068982368080: TensorSpec(shape=(), dtype=tf.resource, name=None)\n",
      "  140068982369616: TensorSpec(shape=(), dtype=tf.resource, name=None)\n",
      "  140068982371536: TensorSpec(shape=(), dtype=tf.resource, name=None)\n",
      "  140068982372496: TensorSpec(shape=(), dtype=tf.resource, name=None)\n",
      "  140068982371152: TensorSpec(shape=(), dtype=tf.resource, name=None)\n",
      "  140068982371728: TensorSpec(shape=(), dtype=tf.resource, name=None)\n",
      "  140068982370768: TensorSpec(shape=(), dtype=tf.resource, name=None)\n",
      "  140068982372304: TensorSpec(shape=(), dtype=tf.resource, name=None)\n",
      "  140068982371920: TensorSpec(shape=(), dtype=tf.resource, name=None)\n",
      "  140068982372688: TensorSpec(shape=(), dtype=tf.resource, name=None)\n",
      "  140068982718544: TensorSpec(shape=(), dtype=tf.resource, name=None)\n",
      "  140068982718928: TensorSpec(shape=(), dtype=tf.resource, name=None)\n",
      "  140068982373456: TensorSpec(shape=(), dtype=tf.resource, name=None)\n",
      "  140068982719120: TensorSpec(shape=(), dtype=tf.resource, name=None)\n",
      "  140068982719888: TensorSpec(shape=(), dtype=tf.resource, name=None)\n",
      "  140068982720464: TensorSpec(shape=(), dtype=tf.resource, name=None)\n",
      "  140068982719504: TensorSpec(shape=(), dtype=tf.resource, name=None)\n",
      "  140068982720272: TensorSpec(shape=(), dtype=tf.resource, name=None)\n",
      "  140068982719312: TensorSpec(shape=(), dtype=tf.resource, name=None)\n",
      "  140068982720656: TensorSpec(shape=(), dtype=tf.resource, name=None)\n",
      "  140068982722192: TensorSpec(shape=(), dtype=tf.resource, name=None)\n",
      "  140068982722768: TensorSpec(shape=(), dtype=tf.resource, name=None)\n",
      "  140068982721808: TensorSpec(shape=(), dtype=tf.resource, name=None)\n",
      "  140068982722576: TensorSpec(shape=(), dtype=tf.resource, name=None)\n",
      "  140068982721424: TensorSpec(shape=(), dtype=tf.resource, name=None)\n",
      "  140068982722960: TensorSpec(shape=(), dtype=tf.resource, name=None)\n",
      "  140068982724496: TensorSpec(shape=(), dtype=tf.resource, name=None)\n",
      "  140068982725072: TensorSpec(shape=(), dtype=tf.resource, name=None)\n",
      "  140068982724112: TensorSpec(shape=(), dtype=tf.resource, name=None)\n",
      "  140068982724880: TensorSpec(shape=(), dtype=tf.resource, name=None)\n",
      "  140068982723728: TensorSpec(shape=(), dtype=tf.resource, name=None)\n",
      "  140068982725264: TensorSpec(shape=(), dtype=tf.resource, name=None)\n",
      "  140068982726800: TensorSpec(shape=(), dtype=tf.resource, name=None)\n",
      "  140068982727376: TensorSpec(shape=(), dtype=tf.resource, name=None)\n",
      "  140068982726416: TensorSpec(shape=(), dtype=tf.resource, name=None)\n",
      "  140068982727184: TensorSpec(shape=(), dtype=tf.resource, name=None)\n",
      "  140068982726032: TensorSpec(shape=(), dtype=tf.resource, name=None)\n",
      "  140068982727568: TensorSpec(shape=(), dtype=tf.resource, name=None)\n",
      "  140068982729104: TensorSpec(shape=(), dtype=tf.resource, name=None)\n",
      "  140068982729680: TensorSpec(shape=(), dtype=tf.resource, name=None)\n",
      "  140068982728720: TensorSpec(shape=(), dtype=tf.resource, name=None)\n",
      "  140068982729488: TensorSpec(shape=(), dtype=tf.resource, name=None)\n",
      "  140068982728336: TensorSpec(shape=(), dtype=tf.resource, name=None)\n",
      "  140068982729872: TensorSpec(shape=(), dtype=tf.resource, name=None)\n",
      "  140068982731408: TensorSpec(shape=(), dtype=tf.resource, name=None)\n",
      "  140068982731984: TensorSpec(shape=(), dtype=tf.resource, name=None)\n",
      "  140068982731024: TensorSpec(shape=(), dtype=tf.resource, name=None)\n",
      "  140068982731792: TensorSpec(shape=(), dtype=tf.resource, name=None)\n",
      "  140068982730640: TensorSpec(shape=(), dtype=tf.resource, name=None)\n",
      "  140068982732176: TensorSpec(shape=(), dtype=tf.resource, name=None)\n",
      "  140068982733712: TensorSpec(shape=(), dtype=tf.resource, name=None)\n",
      "  140068982734288: TensorSpec(shape=(), dtype=tf.resource, name=None)\n",
      "  140068983062800: TensorSpec(shape=(), dtype=tf.resource, name=None)\n",
      "  140068983062992: TensorSpec(shape=(), dtype=tf.resource, name=None)\n",
      "  140068982733328: TensorSpec(shape=(), dtype=tf.resource, name=None)\n",
      "  140068982734480: TensorSpec(shape=(), dtype=tf.resource, name=None)\n",
      "  140068983063760: TensorSpec(shape=(), dtype=tf.resource, name=None)\n",
      "  140068983064336: TensorSpec(shape=(), dtype=tf.resource, name=None)\n",
      "  140068983063376: TensorSpec(shape=(), dtype=tf.resource, name=None)\n",
      "  140068983064144: TensorSpec(shape=(), dtype=tf.resource, name=None)\n",
      "  140068983063184: TensorSpec(shape=(), dtype=tf.resource, name=None)\n",
      "  140068983064528: TensorSpec(shape=(), dtype=tf.resource, name=None)\n",
      "  140068983066064: TensorSpec(shape=(), dtype=tf.resource, name=None)\n",
      "  140068983066640: TensorSpec(shape=(), dtype=tf.resource, name=None)\n",
      "  140068983065680: TensorSpec(shape=(), dtype=tf.resource, name=None)\n",
      "  140068983066448: TensorSpec(shape=(), dtype=tf.resource, name=None)\n",
      "  140068983065296: TensorSpec(shape=(), dtype=tf.resource, name=None)\n",
      "  140068983066832: TensorSpec(shape=(), dtype=tf.resource, name=None)\n",
      "  140068983068368: TensorSpec(shape=(), dtype=tf.resource, name=None)\n",
      "  140068983068944: TensorSpec(shape=(), dtype=tf.resource, name=None)\n",
      "  140068983067984: TensorSpec(shape=(), dtype=tf.resource, name=None)\n",
      "  140068983068752: TensorSpec(shape=(), dtype=tf.resource, name=None)\n",
      "  140068983067600: TensorSpec(shape=(), dtype=tf.resource, name=None)\n",
      "  140068983069136: TensorSpec(shape=(), dtype=tf.resource, name=None)\n",
      "  140068983070672: TensorSpec(shape=(), dtype=tf.resource, name=None)\n",
      "  140068983071248: TensorSpec(shape=(), dtype=tf.resource, name=None)\n",
      "  140068983070288: TensorSpec(shape=(), dtype=tf.resource, name=None)\n",
      "  140068983071056: TensorSpec(shape=(), dtype=tf.resource, name=None)\n",
      "  140068983069904: TensorSpec(shape=(), dtype=tf.resource, name=None)\n",
      "  140068983071440: TensorSpec(shape=(), dtype=tf.resource, name=None)\n",
      "  140068983072976: TensorSpec(shape=(), dtype=tf.resource, name=None)\n",
      "  140068983073552: TensorSpec(shape=(), dtype=tf.resource, name=None)\n",
      "  140068983072592: TensorSpec(shape=(), dtype=tf.resource, name=None)\n",
      "  140068983073360: TensorSpec(shape=(), dtype=tf.resource, name=None)\n",
      "  140068983072208: TensorSpec(shape=(), dtype=tf.resource, name=None)\n",
      "  140068983073744: TensorSpec(shape=(), dtype=tf.resource, name=None)\n",
      "  140068983075280: TensorSpec(shape=(), dtype=tf.resource, name=None)\n",
      "  140068983075856: TensorSpec(shape=(), dtype=tf.resource, name=None)\n",
      "  140068983074896: TensorSpec(shape=(), dtype=tf.resource, name=None)\n",
      "  140068983075664: TensorSpec(shape=(), dtype=tf.resource, name=None)\n",
      "  140068983074512: TensorSpec(shape=(), dtype=tf.resource, name=None)\n",
      "  140068983076048: TensorSpec(shape=(), dtype=tf.resource, name=None)\n",
      "  140068983077584: TensorSpec(shape=(), dtype=tf.resource, name=None)\n",
      "  140068983078160: TensorSpec(shape=(), dtype=tf.resource, name=None)\n",
      "  140068964844176: TensorSpec(shape=(), dtype=tf.resource, name=None)\n",
      "  140068964843984: TensorSpec(shape=(), dtype=tf.resource, name=None)\n",
      "  140068983076816: TensorSpec(shape=(), dtype=tf.resource, name=None)\n",
      "  140068983077200: TensorSpec(shape=(), dtype=tf.resource, name=None)\n",
      "  140068964844560: TensorSpec(shape=(), dtype=tf.resource, name=None)\n",
      "  140068964845136: TensorSpec(shape=(), dtype=tf.resource, name=None)\n",
      "  140068964844368: TensorSpec(shape=(), dtype=tf.resource, name=None)\n",
      "  140068964844944: TensorSpec(shape=(), dtype=tf.resource, name=None)\n",
      "  140068964843792: TensorSpec(shape=(), dtype=tf.resource, name=None)\n",
      "  140068964845328: TensorSpec(shape=(), dtype=tf.resource, name=None)\n",
      "  140068964846864: TensorSpec(shape=(), dtype=tf.resource, name=None)\n",
      "  140068964847440: TensorSpec(shape=(), dtype=tf.resource, name=None)\n",
      "  140068964846480: TensorSpec(shape=(), dtype=tf.resource, name=None)\n",
      "  140068964847248: TensorSpec(shape=(), dtype=tf.resource, name=None)\n",
      "  140068964846096: TensorSpec(shape=(), dtype=tf.resource, name=None)\n",
      "  140068964847632: TensorSpec(shape=(), dtype=tf.resource, name=None)\n",
      "  140068964849168: TensorSpec(shape=(), dtype=tf.resource, name=None)\n",
      "  140068964849744: TensorSpec(shape=(), dtype=tf.resource, name=None)\n",
      "  140068964848784: TensorSpec(shape=(), dtype=tf.resource, name=None)\n",
      "  140068964849552: TensorSpec(shape=(), dtype=tf.resource, name=None)\n",
      "  140068964848400: TensorSpec(shape=(), dtype=tf.resource, name=None)\n",
      "  140068964849936: TensorSpec(shape=(), dtype=tf.resource, name=None)\n",
      "  140068964851856: TensorSpec(shape=(), dtype=tf.resource, name=None)\n",
      "  140068964852816: TensorSpec(shape=(), dtype=tf.resource, name=None)\n",
      "  140068964851472: TensorSpec(shape=(), dtype=tf.resource, name=None)\n",
      "  140068964852048: TensorSpec(shape=(), dtype=tf.resource, name=None)\n",
      "  140068964851088: TensorSpec(shape=(), dtype=tf.resource, name=None)\n",
      "  140068964852624: TensorSpec(shape=(), dtype=tf.resource, name=None)\n",
      "  140068964852240: TensorSpec(shape=(), dtype=tf.resource, name=None)\n",
      "  140068964853008: TensorSpec(shape=(), dtype=tf.resource, name=None)\n",
      "  140068964854160: TensorSpec(shape=(), dtype=tf.resource, name=None)\n",
      "  140068964854544: TensorSpec(shape=(), dtype=tf.resource, name=None)\n",
      "  140068964853392: TensorSpec(shape=(), dtype=tf.resource, name=None)\n",
      "  140068964853776: TensorSpec(shape=(), dtype=tf.resource, name=None)\n",
      "  140068964856080: TensorSpec(shape=(), dtype=tf.resource, name=None)\n",
      "  140068964856656: TensorSpec(shape=(), dtype=tf.resource, name=None)\n",
      "  140068964855696: TensorSpec(shape=(), dtype=tf.resource, name=None)\n",
      "  140068964856464: TensorSpec(shape=(), dtype=tf.resource, name=None)\n",
      "  140068964855312: TensorSpec(shape=(), dtype=tf.resource, name=None)\n",
      "  140068964856848: TensorSpec(shape=(), dtype=tf.resource, name=None)\n",
      "  140068964858384: TensorSpec(shape=(), dtype=tf.resource, name=None)\n",
      "  140068964858960: TensorSpec(shape=(), dtype=tf.resource, name=None)\n",
      "  140068964858000: TensorSpec(shape=(), dtype=tf.resource, name=None)\n",
      "  140068965204240: TensorSpec(shape=(), dtype=tf.resource, name=None)\n",
      "  140068964857616: TensorSpec(shape=(), dtype=tf.resource, name=None)\n",
      "  140068964858768: TensorSpec(shape=(), dtype=tf.resource, name=None)\n",
      "  140068965204816: TensorSpec(shape=(), dtype=tf.resource, name=None)\n",
      "  140068965205392: TensorSpec(shape=(), dtype=tf.resource, name=None)\n",
      "  140068965204624: TensorSpec(shape=(), dtype=tf.resource, name=None)\n",
      "  140068965205200: TensorSpec(shape=(), dtype=tf.resource, name=None)\n",
      "  140068965204048: TensorSpec(shape=(), dtype=tf.resource, name=None)\n",
      "  140068965205584: TensorSpec(shape=(), dtype=tf.resource, name=None)\n",
      "  140068965207120: TensorSpec(shape=(), dtype=tf.resource, name=None)\n",
      "  140068965207696: TensorSpec(shape=(), dtype=tf.resource, name=None)\n",
      "  140068965206736: TensorSpec(shape=(), dtype=tf.resource, name=None)\n",
      "  140068965207504: TensorSpec(shape=(), dtype=tf.resource, name=None)\n",
      "  140068965206352: TensorSpec(shape=(), dtype=tf.resource, name=None)\n",
      "  140068965207888: TensorSpec(shape=(), dtype=tf.resource, name=None)\n",
      "  140068965209424: TensorSpec(shape=(), dtype=tf.resource, name=None)\n",
      "  140068965210000: TensorSpec(shape=(), dtype=tf.resource, name=None)\n",
      "  140068965209040: TensorSpec(shape=(), dtype=tf.resource, name=None)\n",
      "  140068965209808: TensorSpec(shape=(), dtype=tf.resource, name=None)\n",
      "  140068965208656: TensorSpec(shape=(), dtype=tf.resource, name=None)\n",
      "  140068965210192: TensorSpec(shape=(), dtype=tf.resource, name=None)\n",
      "  140068965211728: TensorSpec(shape=(), dtype=tf.resource, name=None)\n",
      "  140068965212304: TensorSpec(shape=(), dtype=tf.resource, name=None)\n",
      "  140068965211344: TensorSpec(shape=(), dtype=tf.resource, name=None)\n",
      "  140068965212112: TensorSpec(shape=(), dtype=tf.resource, name=None)\n",
      "  140068965210960: TensorSpec(shape=(), dtype=tf.resource, name=None)\n",
      "  140068965212496: TensorSpec(shape=(), dtype=tf.resource, name=None)\n",
      "  140068965214800: TensorSpec(shape=(), dtype=tf.resource, name=None)\n",
      "  140068965215760: TensorSpec(shape=(), dtype=tf.resource, name=None)\n"
     ]
    },
    {
     "name": "stderr",
     "output_type": "stream",
     "text": [
      "W0000 00:00:1730286432.734329   53594 tf_tfl_flatbuffer_helpers.cc:392] Ignored output_format.\n",
      "W0000 00:00:1730286432.734397   53594 tf_tfl_flatbuffer_helpers.cc:395] Ignored drop_control_dependency.\n",
      "2024-10-30 18:07:12.735022: I tensorflow/cc/saved_model/reader.cc:83] Reading SavedModel from: /tmp/tmpbzfn23id\n",
      "2024-10-30 18:07:12.741831: I tensorflow/cc/saved_model/reader.cc:52] Reading meta graph with tags { serve }\n",
      "2024-10-30 18:07:12.741868: I tensorflow/cc/saved_model/reader.cc:147] Reading SavedModel debug info (if present) from: /tmp/tmpbzfn23id\n",
      "2024-10-30 18:07:12.822919: I tensorflow/compiler/mlir/mlir_graph_optimization_pass.cc:388] MLIR V1 optimization pass is not enabled\n",
      "2024-10-30 18:07:12.840417: I tensorflow/cc/saved_model/loader.cc:236] Restoring SavedModel bundle.\n",
      "2024-10-30 18:07:13.591032: I tensorflow/cc/saved_model/loader.cc:220] Running initialization op on SavedModel bundle at path: /tmp/tmpbzfn23id\n",
      "2024-10-30 18:07:13.742972: I tensorflow/cc/saved_model/loader.cc:462] SavedModel load for tags { serve }; Status: success: OK. Took 1007957 microseconds.\n"
     ]
    }
   ],
   "source": [
    "converter = tf.lite.TFLiteConverter.from_keras_model(model)\n",
    "\n",
    "tflite_model = converter.convert()\n",
    "\n",
    "with open('model_hw_newhandpd_aug-ilum_rasnet50.tflite', 'wb') as f_out:\n",
    "    f_out.write(tflite_model)\n"
   ]
  },
  {
   "cell_type": "code",
   "execution_count": 11,
   "metadata": {},
   "outputs": [],
   "source": [
    "import tensorflow.lite as tflite"
   ]
  },
  {
   "cell_type": "code",
   "execution_count": 12,
   "metadata": {},
   "outputs": [
    {
     "name": "stderr",
     "output_type": "stream",
     "text": [
      "INFO: Created TensorFlow Lite XNNPACK delegate for CPU.\n"
     ]
    }
   ],
   "source": [
    "interpreter = tflite.Interpreter(model_path='model_hw_newhandpd_aug-ilum_rasnet50.tflite')\n",
    "interpreter.allocate_tensors()\n",
    "\n",
    "input_index = interpreter.get_input_details()[0]['index']\n",
    "output_index = interpreter.get_output_details()[0]['index']"
   ]
  },
  {
   "cell_type": "code",
   "execution_count": 13,
   "metadata": {},
   "outputs": [],
   "source": [
    "interpreter.set_tensor(input_index, X)\n",
    "interpreter.invoke()\n",
    "preds = interpreter.get_tensor(output_index)"
   ]
  },
  {
   "cell_type": "code",
   "execution_count": 15,
   "metadata": {},
   "outputs": [
    {
     "data": {
      "text/plain": [
       "{'prediction': 0.9063211}"
      ]
     },
     "execution_count": 15,
     "metadata": {},
     "output_type": "execute_result"
    }
   ],
   "source": [
    "pred = {\"prediction\": preds[0][1]}\n",
    "pred"
   ]
  },
  {
   "cell_type": "markdown",
   "metadata": {},
   "source": [
    "# Removing TF dependency"
   ]
  },
  {
   "cell_type": "code",
   "execution_count": 16,
   "metadata": {},
   "outputs": [],
   "source": [
    "from PIL import Image"
   ]
  },
  {
   "cell_type": "code",
   "execution_count": 17,
   "metadata": {},
   "outputs": [],
   "source": [
    "with Image.open('./sp1-P1.jpg') as img:\n",
    "    img = img.resize((224, 224), Image.NEAREST)"
   ]
  },
  {
   "cell_type": "code",
   "execution_count": 20,
   "metadata": {},
   "outputs": [],
   "source": [
    "def preprocess_input(x):\n",
    "    x = x[..., ::-1]\n",
    "    mean = [103.939, 116.779, 123.68]\n",
    "    x[..., 0] -= mean[0]\n",
    "    x[..., 1] -= mean[1]\n",
    "    x[..., 2] -= mean[2]\n",
    "    return x"
   ]
  },
  {
   "cell_type": "code",
   "execution_count": 21,
   "metadata": {},
   "outputs": [],
   "source": [
    "x = np.array(img, dtype='float32')\n",
    "X = np.array([x])\n",
    "\n",
    "X = preprocess_input(X)"
   ]
  },
  {
   "cell_type": "code",
   "execution_count": 22,
   "metadata": {},
   "outputs": [
    {
     "data": {
      "text/plain": [
       "{'prediction': 0.9063211}"
      ]
     },
     "execution_count": 22,
     "metadata": {},
     "output_type": "execute_result"
    }
   ],
   "source": [
    "interpreter.set_tensor(input_index, X)\n",
    "interpreter.invoke()\n",
    "preds = interpreter.get_tensor(output_index)\n",
    "pred = {\"prediction\": preds[0][1]}\n",
    "pred"
   ]
  },
  {
   "cell_type": "code",
   "execution_count": 23,
   "metadata": {},
   "outputs": [
    {
     "name": "stdout",
     "output_type": "stream",
     "text": [
      "Requirement already satisfied: keras-image-helper in /home/andakara/anaconda3/envs/.parked-ml-dev-venv/lib/python3.11/site-packages (0.0.1)\n",
      "Requirement already satisfied: numpy in /home/andakara/anaconda3/envs/.parked-ml-dev-venv/lib/python3.11/site-packages (from keras-image-helper) (1.26.4)\n",
      "Requirement already satisfied: pillow in /home/andakara/anaconda3/envs/.parked-ml-dev-venv/lib/python3.11/site-packages (from keras-image-helper) (10.4.0)\n"
     ]
    }
   ],
   "source": [
    "!pip install keras-image-helper"
   ]
  },
  {
   "cell_type": "code",
   "execution_count": 24,
   "metadata": {},
   "outputs": [
    {
     "name": "stdout",
     "output_type": "stream",
     "text": [
      "Looking in indexes: https://pypi.org/simple, https://google-coral.github.io/py-repo/\n",
      "Collecting tflite_runtime\n",
      "  Downloading tflite_runtime-2.14.0-cp311-cp311-manylinux2014_x86_64.whl.metadata (1.4 kB)\n",
      "Requirement already satisfied: numpy>=1.23.2 in /home/andakara/anaconda3/envs/.parked-ml-dev-venv/lib/python3.11/site-packages (from tflite_runtime) (1.26.4)\n",
      "Downloading tflite_runtime-2.14.0-cp311-cp311-manylinux2014_x86_64.whl (2.4 MB)\n",
      "\u001b[2K   \u001b[90m━━━━━━━━━━━━━━━━━━━━━━━━━━━━━━━━━━━━━━━━\u001b[0m \u001b[32m2.4/2.4 MB\u001b[0m \u001b[31m423.9 kB/s\u001b[0m eta \u001b[36m0:00:00\u001b[0m00:01\u001b[0m00:01\u001b[0m\n",
      "\u001b[?25hInstalling collected packages: tflite_runtime\n",
      "Successfully installed tflite_runtime-2.14.0\n"
     ]
    }
   ],
   "source": [
    "!pip install --extra-index-url https://google-coral.github.io/py-repo/ tflite_runtime"
   ]
  },
  {
   "cell_type": "code",
   "execution_count": 1,
   "metadata": {},
   "outputs": [],
   "source": [
    "import tflite_runtime.interpreter as tflite\n",
    "from keras_image_helper import create_preprocessor"
   ]
  },
  {
   "cell_type": "code",
   "execution_count": 2,
   "metadata": {},
   "outputs": [
    {
     "name": "stderr",
     "output_type": "stream",
     "text": [
      "INFO: Created TensorFlow Lite XNNPACK delegate for CPU.\n"
     ]
    }
   ],
   "source": [
    "interpreter = tflite.Interpreter(model_path='model_hw_newhandpd_aug-ilum_rasnet50.tflite')\n",
    "interpreter.allocate_tensors()\n",
    "\n",
    "input_index = interpreter.get_input_details()[0]['index']\n",
    "output_index = interpreter.get_output_details()[0]['index']"
   ]
  },
  {
   "cell_type": "code",
   "execution_count": 3,
   "metadata": {},
   "outputs": [],
   "source": [
    "preprocessor = create_preprocessor('resnet50', target_size=(224, 224))"
   ]
  },
  {
   "cell_type": "code",
   "execution_count": 4,
   "metadata": {},
   "outputs": [],
   "source": [
    "path = './sp1-P1.jpg'\n",
    "X = preprocessor.from_path(path)"
   ]
  },
  {
   "cell_type": "code",
   "execution_count": 5,
   "metadata": {},
   "outputs": [
    {
     "data": {
      "text/plain": [
       "{'prediction': 0.90632087}"
      ]
     },
     "execution_count": 5,
     "metadata": {},
     "output_type": "execute_result"
    }
   ],
   "source": [
    "interpreter.set_tensor(input_index, X)\n",
    "interpreter.invoke()\n",
    "preds = interpreter.get_tensor(output_index)\n",
    "pred = {\"prediction\": preds[0][1]}\n",
    "pred"
   ]
  }
 ],
 "metadata": {
  "kernelspec": {
   "display_name": ".parked-ml-dev-venv",
   "language": "python",
   "name": "python3"
  },
  "language_info": {
   "codemirror_mode": {
    "name": "ipython",
    "version": 3
   },
   "file_extension": ".py",
   "mimetype": "text/x-python",
   "name": "python",
   "nbconvert_exporter": "python",
   "pygments_lexer": "ipython3",
   "version": "3.11.9"
  }
 },
 "nbformat": 4,
 "nbformat_minor": 2
}
